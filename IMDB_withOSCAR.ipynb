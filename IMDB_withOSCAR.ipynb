{
 "cells": [
  {
   "cell_type": "code",
   "execution_count": 19,
   "metadata": {},
   "outputs": [],
   "source": [
    "import pandas as pd\n",
    "import numpy as np\n",
    "import matplotlib.pyplot as plt\n",
    "%matplotlib inline"
   ]
  },
  {
   "cell_type": "code",
   "execution_count": 7,
   "metadata": {},
   "outputs": [
    {
     "data": {
      "text/plain": [
       "(340425, 13)"
      ]
     },
     "execution_count": 7,
     "metadata": {},
     "output_type": "execute_result"
    }
   ],
   "source": [
    "df = pd.read_csv('C:/Users/USER/Desktop/IMDB_cleaned/imdb_withOscar.csv')\n",
    "df.shape"
   ]
  },
  {
   "cell_type": "code",
   "execution_count": null,
   "metadata": {},
   "outputs": [],
   "source": [
    "df.head()"
   ]
  },
  {
   "cell_type": "code",
   "execution_count": 8,
   "metadata": {},
   "outputs": [
    {
     "data": {
      "text/plain": [
       "(9535, 13)"
      ]
     },
     "execution_count": 8,
     "metadata": {},
     "output_type": "execute_result"
    }
   ],
   "source": [
    "#df = df[(df['year']==2015) | (df['year']==2016)]\n",
    "df = df[df['year']==2018]\n",
    "df.shape"
   ]
  },
  {
   "cell_type": "code",
   "execution_count": null,
   "metadata": {},
   "outputs": [],
   "source": [
    "df.head()"
   ]
  },
  {
   "cell_type": "code",
   "execution_count": 9,
   "metadata": {},
   "outputs": [
    {
     "data": {
      "text/html": [
       "<div>\n",
       "<style scoped>\n",
       "    .dataframe tbody tr th:only-of-type {\n",
       "        vertical-align: middle;\n",
       "    }\n",
       "\n",
       "    .dataframe tbody tr th {\n",
       "        vertical-align: top;\n",
       "    }\n",
       "\n",
       "    .dataframe thead th {\n",
       "        text-align: right;\n",
       "    }\n",
       "</style>\n",
       "<table border=\"1\" class=\"dataframe\">\n",
       "  <thead>\n",
       "    <tr style=\"text-align: right;\">\n",
       "      <th></th>\n",
       "      <th>movie</th>\n",
       "      <th>type</th>\n",
       "      <th>imdb</th>\n",
       "      <th>metascore</th>\n",
       "      <th>vote</th>\n",
       "      <th>duration_(min)</th>\n",
       "      <th>gross_revenue</th>\n",
       "      <th>genre</th>\n",
       "      <th>isOscarNominated</th>\n",
       "    </tr>\n",
       "  </thead>\n",
       "  <tbody>\n",
       "    <tr>\n",
       "      <th>330890</th>\n",
       "      <td>AVENGERS: INFINITY WAR</td>\n",
       "      <td>G</td>\n",
       "      <td>8.5</td>\n",
       "      <td>68.0</td>\n",
       "      <td>524539.0</td>\n",
       "      <td>149.0</td>\n",
       "      <td>678.82</td>\n",
       "      <td>Action</td>\n",
       "      <td>0</td>\n",
       "    </tr>\n",
       "    <tr>\n",
       "      <th>330891</th>\n",
       "      <td>BLACK PANTHER</td>\n",
       "      <td>PG</td>\n",
       "      <td>7.4</td>\n",
       "      <td>88.0</td>\n",
       "      <td>414872.0</td>\n",
       "      <td>134.0</td>\n",
       "      <td>700.06</td>\n",
       "      <td>Action</td>\n",
       "      <td>0</td>\n",
       "    </tr>\n",
       "    <tr>\n",
       "      <th>330892</th>\n",
       "      <td>DEADPOOL 2</td>\n",
       "      <td>PG</td>\n",
       "      <td>7.8</td>\n",
       "      <td>66.0</td>\n",
       "      <td>301553.0</td>\n",
       "      <td>119.0</td>\n",
       "      <td>318.49</td>\n",
       "      <td>Action</td>\n",
       "      <td>0</td>\n",
       "    </tr>\n",
       "    <tr>\n",
       "      <th>330893</th>\n",
       "      <td>READY PLAYER ONE</td>\n",
       "      <td>G</td>\n",
       "      <td>7.6</td>\n",
       "      <td>64.0</td>\n",
       "      <td>240972.0</td>\n",
       "      <td>140.0</td>\n",
       "      <td>137.02</td>\n",
       "      <td>Action</td>\n",
       "      <td>0</td>\n",
       "    </tr>\n",
       "    <tr>\n",
       "      <th>330894</th>\n",
       "      <td>A QUIET PLACE</td>\n",
       "      <td>PG</td>\n",
       "      <td>7.6</td>\n",
       "      <td>82.0</td>\n",
       "      <td>230751.0</td>\n",
       "      <td>90.0</td>\n",
       "      <td>188.02</td>\n",
       "      <td>Drama</td>\n",
       "      <td>0</td>\n",
       "    </tr>\n",
       "  </tbody>\n",
       "</table>\n",
       "</div>"
      ],
      "text/plain": [
       "                         movie type  imdb  metascore      vote  \\\n",
       "330890  AVENGERS: INFINITY WAR    G   8.5       68.0  524539.0   \n",
       "330891           BLACK PANTHER   PG   7.4       88.0  414872.0   \n",
       "330892              DEADPOOL 2   PG   7.8       66.0  301553.0   \n",
       "330893        READY PLAYER ONE    G   7.6       64.0  240972.0   \n",
       "330894           A QUIET PLACE   PG   7.6       82.0  230751.0   \n",
       "\n",
       "        duration_(min)  gross_revenue   genre  isOscarNominated  \n",
       "330890           149.0         678.82  Action                 0  \n",
       "330891           134.0         700.06  Action                 0  \n",
       "330892           119.0         318.49  Action                 0  \n",
       "330893           140.0         137.02  Action                 0  \n",
       "330894            90.0         188.02   Drama                 0  "
      ]
     },
     "execution_count": 9,
     "metadata": {},
     "output_type": "execute_result"
    }
   ],
   "source": [
    "df = df.drop(columns=['year','director','stars','img_html'])\n",
    "df['movie'] = df['movie'].str.replace(',','')\n",
    "df.head()"
   ]
  },
  {
   "cell_type": "code",
   "execution_count": 10,
   "metadata": {},
   "outputs": [],
   "source": [
    "df.to_csv('C:/Users/USER/Desktop/IMDB_cleaned/imdb_withOscar2018.csv',index=False)"
   ]
  },
  {
   "cell_type": "code",
   "execution_count": 39,
   "metadata": {},
   "outputs": [
    {
     "data": {
      "text/plain": [
       "array(['unrated', 'PG-13', 'NC-17', 'R', 'PG', 'G'], dtype=object)"
      ]
     },
     "execution_count": 39,
     "metadata": {},
     "output_type": "execute_result"
    }
   ],
   "source": [
    "data = pd.read_csv('C:/Users/USER/Desktop/IMDB_cleaned/imdb_cleaned_all.csv')\n",
    "data.groupby('genre')['genre'].count().sort_values(ascending=False)\n",
    "data.type.unique()"
   ]
  },
  {
   "cell_type": "code",
   "execution_count": 34,
   "metadata": {},
   "outputs": [
    {
     "data": {
      "text/plain": [
       "(14434, 3)"
      ]
     },
     "execution_count": 34,
     "metadata": {},
     "output_type": "execute_result"
    }
   ],
   "source": [
    "data = data[(data['genre']=='Action') | (data['genre']=='Drama') | (data['genre']=='Comedy')  | (data['genre']=='Animation') | (data['genre']=='Crime')]\n",
    "data = data[data['type']!='unrated']\n",
    "data.drop(columns=['movie','year','imdb','duration_(min)','metascore','gross_revenue','director','stars','img_html'], inplace=True)\n",
    "data.shape"
   ]
  },
  {
   "cell_type": "code",
   "execution_count": 35,
   "metadata": {},
   "outputs": [
    {
     "name": "stdout",
     "output_type": "stream",
     "text": [
      "<class 'pandas.core.frame.DataFrame'>\n",
      "Int64Index: 14434 entries, 16 to 340206\n",
      "Data columns (total 3 columns):\n",
      "type     14434 non-null object\n",
      "vote     14434 non-null float64\n",
      "genre    14434 non-null object\n",
      "dtypes: float64(1), object(2)\n",
      "memory usage: 451.1+ KB\n"
     ]
    }
   ],
   "source": [
    "data.info()"
   ]
  },
  {
   "cell_type": "code",
   "execution_count": 36,
   "metadata": {},
   "outputs": [
    {
     "data": {
      "text/plain": [
       "array(['Drama', 'Comedy', 'Crime', 'Action', 'Animation'], dtype=object)"
      ]
     },
     "execution_count": 36,
     "metadata": {},
     "output_type": "execute_result"
    }
   ],
   "source": [
    "data.genre.unique()"
   ]
  },
  {
   "cell_type": "code",
   "execution_count": 37,
   "metadata": {},
   "outputs": [],
   "source": [
    "data.to_csv('C:/Users/USER/Desktop/IMDB_cleaned/imdb_cleaned_forClustering.csv',index=False)"
   ]
  },
  {
   "cell_type": "code",
   "execution_count": null,
   "metadata": {},
   "outputs": [],
   "source": []
  }
 ],
 "metadata": {
  "kernelspec": {
   "display_name": "Python 3",
   "language": "python",
   "name": "python3"
  },
  "language_info": {
   "codemirror_mode": {
    "name": "ipython",
    "version": 3
   },
   "file_extension": ".py",
   "mimetype": "text/x-python",
   "name": "python",
   "nbconvert_exporter": "python",
   "pygments_lexer": "ipython3",
   "version": "3.6.8"
  }
 },
 "nbformat": 4,
 "nbformat_minor": 2
}
