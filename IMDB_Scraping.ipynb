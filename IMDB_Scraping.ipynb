{
 "cells": [
  {
   "cell_type": "code",
   "execution_count": 2,
   "metadata": {},
   "outputs": [],
   "source": [
    "import pandas as pd\n",
    "import numpy as np\n",
    "from requests import get\n",
    "from bs4 import BeautifulSoup\n",
    "from time import sleep, time\n",
    "from random import randint\n",
    "from IPython.core.display import clear_output\n",
    "from warnings import warn\n",
    "\n",
    "pd.set_option(\"display.max_colwidth\",-1)"
   ]
  },
  {
   "cell_type": "code",
   "execution_count": null,
   "metadata": {},
   "outputs": [],
   "source": [
    "begin_year = 2006\n",
    "end_year = 2018\n",
    "\n",
    "for i in range(end_year-begin_year):\n",
    "    begin_year += 1\n",
    "    %reset_selective -f df\n",
    "\n",
    "    ##############################################################\n",
    "\n",
    "    names = []\n",
    "    episode = []\n",
    "    years = []\n",
    "    imdb_ratings = []\n",
    "    metascores = []\n",
    "    votes = []\n",
    "    gross_revenue = []\n",
    "    types = []\n",
    "    genre = []\n",
    "    length = []\n",
    "    stars = []\n",
    "    director = []\n",
    "    img_html = []\n",
    "\n",
    "    # Preparing the monitoring of the loop\n",
    "    start_time = time()\n",
    "    requests = 0\n",
    "    pages = [str(i) for i in range(1,9902,50)] \n",
    "    years_url = [str(i) for i in range(begin_year,begin_year+1)]\n",
    "    headers = {\"Accept-Language\": \"en-US, en;q=0.5\"}\n",
    "\n",
    "    # For every year\n",
    "    for year_url in years_url:\n",
    "        print(year_url)\n",
    "        # For every page\n",
    "        for page in pages:\n",
    "            print(\"page =\",page)\n",
    "            # Make a get request\n",
    "            # response = get('http://www.imdb.com/search/title?release_date=' + year_url + '&sort=num_votes,desc&page=' + page, headers = headers)\n",
    "            response = get('https://www.imdb.com/search/title?release_date=' + year_url + '-01-01,' + year_url + '-12-31&sort=num_votes,desc&start=' + page + '&ref_=adv_nxt')\n",
    "\n",
    "            # Pause the loop\n",
    "            sleep(1)\n",
    "            '''\n",
    "            # Monitor the requests\n",
    "            requests += 1\n",
    "            elapsed_time = time() - start_time\n",
    "            print('Request:{}; Frequency: {} requests/s'.format(requests, requests/elapsed_time))\n",
    "            clear_output(wait = True)\n",
    "\n",
    "            # Throw a warning for non-200 status codes\n",
    "            if response.status_code != 200:\n",
    "                warn('Request: {}; Status code: {}'.format(requests, response.status_code))\n",
    "\n",
    "            # Break the loop if the number of requests is greater than expected\n",
    "            if requests > 100000:\n",
    "                warn('Number of requests was greater than expected.')  \n",
    "                break \n",
    "            '''\n",
    "            # Parse the content of the request with BeautifulSoup\n",
    "            page_html = BeautifulSoup(response.text, 'html.parser')\n",
    "\n",
    "            # Select all the 50 movie containers from a single page\n",
    "            mv_containers = page_html.find_all('div', class_ = 'lister-item mode-advanced')\n",
    "\n",
    "            # For every movie of these 50\n",
    "            for mv_container in mv_containers:\n",
    "\n",
    "                # Scrape the Name\n",
    "                containers = mv_container.find_all('h3', class_ = 'lister-item-header')\n",
    "                for container in containers:\n",
    "                    sub_containers = container.find_all('a')\n",
    "                    if len(sub_containers)==1:\n",
    "                        names.append(sub_containers[0].text)\n",
    "                    else:\n",
    "                        names.append(sub_containers[0].text + ' - episode ' + sub_containers[1].text)\n",
    "\n",
    "                '''\n",
    "                # Scrape the Year \n",
    "                year = mv_container.h3.find('span', class_ = 'lister-item-year').text\n",
    "                if year == None:\n",
    "                    years.append(np.nan)\n",
    "                else:\n",
    "                    years.append(year)\n",
    "                '''\n",
    "                # Year\n",
    "                years.append(year_url)\n",
    "\n",
    "\n",
    "                # Scrape the IMDB rating\n",
    "                imdb = mv_container.strong\n",
    "                if imdb == None:\n",
    "                    imdb_ratings.append(np.nan)\n",
    "                else:\n",
    "                    imdb_ratings.append(float(imdb.text))\n",
    "\n",
    "                # Scrape the Metascore\n",
    "                m_score = mv_container.find('span', class_ = 'metascore')\n",
    "                if m_score == None:\n",
    "                    metascores.append(np.nan)\n",
    "                else:\n",
    "                    metascores.append(int(m_score.text))\n",
    "\n",
    "                # Scrape the number of votes\n",
    "                vote = mv_container.find('span', attrs = {'name':'nv'})\n",
    "                if vote == None:\n",
    "                    votes.append(np.nan)\n",
    "                else:\n",
    "                    votes.append(int(vote['data-value']))\n",
    "\n",
    "                # Scrape gross revenue\n",
    "                containers = mv_container.find_all('span', attrs = {'name':'nv'})\n",
    "                if len(containers) < 2:\n",
    "                    gross_revenue.append(np.nan)\n",
    "                else:\n",
    "                    gross_revenue.append(containers[1].text)\n",
    "\n",
    "                # Scrape the Length\n",
    "                runtime = mv_container.find('span', class_ = 'runtime')\n",
    "                if runtime == None:\n",
    "                    length.append(np.nan)\n",
    "                else:\n",
    "                    length.append(runtime.text)\n",
    "\n",
    "                # Scrape the Type\n",
    "                type = mv_container.find('span', class_ = 'certificate')\n",
    "                if type == None:\n",
    "                    types.append(np.nan)\n",
    "                else:\n",
    "                    types.append(type.text)\n",
    "\n",
    "                # Scrape the Genre\n",
    "                _genre = mv_container.find('span', class_ = 'genre')\n",
    "                if _genre == None:\n",
    "                    genre.append(np.nan)\n",
    "                else:\n",
    "                    genre.append(_genre.text.strip('\\n'))\n",
    "\n",
    "                # Scrape the Stars\n",
    "                _soup_stars = mv_container.find('div',class_='lister-item-content').text\n",
    "                begin = _soup_stars.find(\"Stars\")\n",
    "                end = _soup_stars.find(\"Votes\")\n",
    "                _stars = _soup_stars[begin+6:end].strip('\\n')\n",
    "                _stars = _stars.replace('\\n','')\n",
    "                stars.append(_stars)\n",
    "\n",
    "                # Scrape the Director\n",
    "                _soup_director = mv_container.find('div',class_='lister-item-content').text\n",
    "                begin = _soup_director.find(\"Director\")\n",
    "                end = _soup_director.find(\"Stars\")\n",
    "                _director = _soup_director[begin+9:end].strip('\\n')\n",
    "                _director = _director.replace('|','')\n",
    "                _director = _director.replace(':','')\n",
    "                _director = _director.replace('\\n','')\n",
    "                director.append(_director)\n",
    "\n",
    "                # Scrape the Thumb\n",
    "                _soup_img = mv_container.find('div',class_='lister-item-image float-left')\n",
    "                img = _soup_img.find(\"img\")\n",
    "                src = img[\"loadlate\"]\n",
    "                _img_html = f'<img src=\"{src}\" />'\n",
    "                img_html.append(_img_html)\n",
    "\n",
    "        df = pd.DataFrame({'movie': names,\n",
    "                       'year': years,\n",
    "                       'imdb': imdb_ratings,\n",
    "                       'metascore': metascores,\n",
    "                       'gross_revenue': gross_revenue,\n",
    "                       'vote': votes,\n",
    "                      'type': types,\n",
    "                       'length': length,\n",
    "                      'genre': genre,\n",
    "                      'stars': stars,\n",
    "                      'director': director,\n",
    "                      'img_html': img_html})\n",
    "\n",
    "        df['year'] = year_url\n",
    "        df['gross_revenue'] = df['gross_revenue'].str.replace('$','')\n",
    "        df['gross_revenue'] = df['gross_revenue'].str.replace('M','').astype('float64')\n",
    "\n",
    "        _stars = list(df.stars)\n",
    "        new_stars = []\n",
    "\n",
    "        for s in _stars:\n",
    "            gather = []\n",
    "            for i in range(1,10,1):\n",
    "                var = s.find(str(i))\n",
    "                gather.append(var)\n",
    "\n",
    "            sum = 1\n",
    "            for element in gather:\n",
    "                sum = sum*element\n",
    "\n",
    "            if sum != -1:\n",
    "                new_stars.append(np.nan)\n",
    "            else:\n",
    "                new_stars.append(s)\n",
    "\n",
    "        df['stars'] = new_stars\n",
    "\n",
    "        _director = list(df.director)\n",
    "        new_director = []\n",
    "\n",
    "        for s in _director:\n",
    "            gather = []\n",
    "            for i in range(1,10,1):\n",
    "                var = s.find(str(i))\n",
    "                gather.append(var)\n",
    "\n",
    "            sum = 1\n",
    "            for element in gather:\n",
    "                sum = sum*element\n",
    "\n",
    "            if sum != -1:\n",
    "                new_director.append(np.nan)\n",
    "            else:\n",
    "                new_director.append(s)\n",
    "\n",
    "        df['director'] = new_director\n",
    "\n",
    "    df.to_csv('C:/Users/USER/Desktop/IMDB_raw/IMDB_' + str(year_url) + '_new.csv', index=False)\n",
    "    %reset_selective -f df\n",
    "    print('done....writing a csv file')\n",
    "                \n",
    "print(\"--- Done ---\")"
   ]
  },
  {
   "cell_type": "code",
   "execution_count": null,
   "metadata": {},
   "outputs": [],
   "source": [
    "from IPython.display import HTML, display, Image\n",
    "from IPython.core.display import display, HTML, Image\n",
    "\n",
    "HTML(df[:50].to_html(escape=False))"
   ]
  },
  {
   "cell_type": "code",
   "execution_count": 3,
   "metadata": {},
   "outputs": [],
   "source": [
    "# Merge all\n",
    "import pandas as pd\n",
    "\n",
    "_1975 = pd.read_csv('C:/Users/USER/Desktop/IMDB_cleaned/imdb_cleaned_1975.csv')\n",
    "_1976 = pd.read_csv('C:/Users/USER/Desktop/IMDB_cleaned/imdb_cleaned_1976.csv')\n",
    "_1977 = pd.read_csv('C:/Users/USER/Desktop/IMDB_cleaned/imdb_cleaned_1977.csv')\n",
    "_1978 = pd.read_csv('C:/Users/USER/Desktop/IMDB_cleaned/imdb_cleaned_1978.csv')\n",
    "_1979 = pd.read_csv('C:/Users/USER/Desktop/IMDB_cleaned/imdb_cleaned_1979.csv')\n",
    "_1980 = pd.read_csv('C:/Users/USER/Desktop/IMDB_cleaned/imdb_cleaned_1980.csv')\n",
    "_1981 = pd.read_csv('C:/Users/USER/Desktop/IMDB_cleaned/imdb_cleaned_1981.csv')\n",
    "_1982 = pd.read_csv('C:/Users/USER/Desktop/IMDB_cleaned/imdb_cleaned_1982.csv')\n",
    "_1983 = pd.read_csv('C:/Users/USER/Desktop/IMDB_cleaned/imdb_cleaned_1983.csv')\n",
    "_1984 = pd.read_csv('C:/Users/USER/Desktop/IMDB_cleaned/imdb_cleaned_1984.csv')\n",
    "_1985 = pd.read_csv('C:/Users/USER/Desktop/IMDB_cleaned/imdb_cleaned_1985.csv')\n",
    "_1986 = pd.read_csv('C:/Users/USER/Desktop/IMDB_cleaned/imdb_cleaned_1986.csv')\n",
    "_1987 = pd.read_csv('C:/Users/USER/Desktop/IMDB_cleaned/imdb_cleaned_1987.csv')\n",
    "_1988 = pd.read_csv('C:/Users/USER/Desktop/IMDB_cleaned/imdb_cleaned_1988.csv')\n",
    "_1989 = pd.read_csv('C:/Users/USER/Desktop/IMDB_cleaned/imdb_cleaned_1989.csv')\n",
    "_1990 = pd.read_csv('C:/Users/USER/Desktop/IMDB_cleaned/imdb_cleaned_1990.csv')\n",
    "_1991 = pd.read_csv('C:/Users/USER/Desktop/IMDB_cleaned/imdb_cleaned_1991.csv')\n",
    "_1992 = pd.read_csv('C:/Users/USER/Desktop/IMDB_cleaned/imdb_cleaned_1992.csv')\n",
    "_1993 = pd.read_csv('C:/Users/USER/Desktop/IMDB_cleaned/imdb_cleaned_1993.csv')\n",
    "_1994 = pd.read_csv('C:/Users/USER/Desktop/IMDB_cleaned/imdb_cleaned_1994.csv')\n",
    "_1995 = pd.read_csv('C:/Users/USER/Desktop/IMDB_cleaned/imdb_cleaned_1995.csv')\n",
    "_1996 = pd.read_csv('C:/Users/USER/Desktop/IMDB_cleaned/imdb_cleaned_1996.csv')\n",
    "_1997 = pd.read_csv('C:/Users/USER/Desktop/IMDB_cleaned/imdb_cleaned_1997.csv')\n",
    "_1998 = pd.read_csv('C:/Users/USER/Desktop/IMDB_cleaned/imdb_cleaned_1998.csv')\n",
    "_1999 = pd.read_csv('C:/Users/USER/Desktop/IMDB_cleaned/imdb_cleaned_1999.csv')\n",
    "_2000 = pd.read_csv('C:/Users/USER/Desktop/IMDB_cleaned/imdb_cleaned_2000.csv')\n",
    "_2001 = pd.read_csv('C:/Users/USER/Desktop/IMDB_cleaned/imdb_cleaned_2001.csv')\n",
    "_2002 = pd.read_csv('C:/Users/USER/Desktop/IMDB_cleaned/imdb_cleaned_2002.csv')\n",
    "_2003 = pd.read_csv('C:/Users/USER/Desktop/IMDB_cleaned/imdb_cleaned_2003.csv')\n",
    "_2004 = pd.read_csv('C:/Users/USER/Desktop/IMDB_cleaned/imdb_cleaned_2004.csv')\n",
    "_2005 = pd.read_csv('C:/Users/USER/Desktop/IMDB_cleaned/imdb_cleaned_2005.csv')\n",
    "_2006 = pd.read_csv('C:/Users/USER/Desktop/IMDB_cleaned/imdb_cleaned_2006.csv')\n",
    "_2007 = pd.read_csv('C:/Users/USER/Desktop/IMDB_cleaned/imdb_cleaned_2007.csv')\n",
    "_2008 = pd.read_csv('C:/Users/USER/Desktop/IMDB_cleaned/imdb_cleaned_2008.csv')\n",
    "_2009 = pd.read_csv('C:/Users/USER/Desktop/IMDB_cleaned/imdb_cleaned_2009.csv')\n",
    "_2010 = pd.read_csv('C:/Users/USER/Desktop/IMDB_cleaned/imdb_cleaned_2010.csv')\n",
    "_2011 = pd.read_csv('C:/Users/USER/Desktop/IMDB_cleaned/imdb_cleaned_2011.csv')\n",
    "_2012 = pd.read_csv('C:/Users/USER/Desktop/IMDB_cleaned/imdb_cleaned_2012.csv')\n",
    "_2013 = pd.read_csv('C:/Users/USER/Desktop/IMDB_cleaned/imdb_cleaned_2013.csv')\n",
    "_2014 = pd.read_csv('C:/Users/USER/Desktop/IMDB_cleaned/imdb_cleaned_2014.csv')\n",
    "_2015 = pd.read_csv('C:/Users/USER/Desktop/IMDB_cleaned/imdb_cleaned_2015.csv')\n",
    "_2016 = pd.read_csv('C:/Users/USER/Desktop/IMDB_cleaned/imdb_cleaned_2016.csv')\n",
    "_2017 = pd.read_csv('C:/Users/USER/Desktop/IMDB_cleaned/imdb_cleaned_2017.csv')\n",
    "_2018 = pd.read_csv('C:/Users/USER/Desktop/IMDB_cleaned/imdb_cleaned_2018.csv')"
   ]
  },
  {
   "cell_type": "code",
   "execution_count": 4,
   "metadata": {},
   "outputs": [],
   "source": [
    "df_all = _1975.append(_1976)\n",
    "df_all = df_all.append(_1977)\n",
    "df_all = df_all.append(_1978)\n",
    "df_all = df_all.append(_1979)\n",
    "df_all = df_all.append(_1980)\n",
    "df_all = df_all.append(_1981)\n",
    "df_all = df_all.append(_1982)\n",
    "df_all = df_all.append(_1983)\n",
    "df_all = df_all.append(_1984)\n",
    "df_all = df_all.append(_1985)\n",
    "df_all = df_all.append(_1986)\n",
    "df_all = df_all.append(_1987)\n",
    "df_all = df_all.append(_1988)\n",
    "df_all = df_all.append(_1989)\n",
    "df_all = df_all.append(_1990)\n",
    "df_all = df_all.append(_1991)\n",
    "df_all = df_all.append(_1992)\n",
    "df_all = df_all.append(_1993)\n",
    "df_all = df_all.append(_1994)\n",
    "df_all = df_all.append(_1995)\n",
    "df_all = df_all.append(_1996)\n",
    "df_all = df_all.append(_1997)\n",
    "df_all = df_all.append(_1998)\n",
    "df_all = df_all.append(_1999)\n",
    "df_all = df_all.append(_2000)\n",
    "df_all = df_all.append(_2001)\n",
    "df_all = df_all.append(_2002)\n",
    "df_all = df_all.append(_2003)\n",
    "df_all = df_all.append(_2004)\n",
    "df_all = df_all.append(_2005)\n",
    "df_all = df_all.append(_2006)\n",
    "df_all = df_all.append(_2007)\n",
    "df_all = df_all.append(_2008)\n",
    "df_all = df_all.append(_2009)\n",
    "df_all = df_all.append(_2010)\n",
    "df_all = df_all.append(_2011)\n",
    "df_all = df_all.append(_2012)\n",
    "df_all = df_all.append(_2013)\n",
    "df_all = df_all.append(_2014)\n",
    "df_all = df_all.append(_2015)\n",
    "df_all = df_all.append(_2016)\n",
    "df_all = df_all.append(_2017)\n",
    "df_all = df_all.append(_2018)\n",
    "\n",
    "#df_all['year'] = df_all['year'].astype('object')\n",
    "#df_all['duration_(min)'] = df_all['duration_(min)'].str.replace(',','')\n",
    "#df_all['duration_(min)'] = df_all['duration_(min)'].astype('float64')\n",
    "df_all.drop_duplicates(['movie'],keep='last',inplace=True)\n",
    "\n",
    "df_all.to_csv('C:/Users/USER/Desktop/IMDB_cleaned/imdb_cleaned_all.csv',index=False)"
   ]
  },
  {
   "cell_type": "code",
   "execution_count": 7,
   "metadata": {},
   "outputs": [
    {
     "name": "stdout",
     "output_type": "stream",
     "text": [
      "<class 'pandas.core.frame.DataFrame'>\n",
      "Int64Index: 358721 entries, 0 to 9628\n",
      "Data columns (total 12 columns):\n",
      "year              358721 non-null object\n",
      "movie             358721 non-null object\n",
      "type              358721 non-null object\n",
      "imdb              340425 non-null float64\n",
      "metascore         12363 non-null float64\n",
      "vote              340425 non-null float64\n",
      "duration_(min)    184315 non-null float64\n",
      "gross_revenue     12771 non-null float64\n",
      "genre             358721 non-null object\n",
      "director          358721 non-null object\n",
      "stars             358721 non-null object\n",
      "img_html          358721 non-null object\n",
      "dtypes: float64(5), object(7)\n",
      "memory usage: 35.6+ MB\n"
     ]
    }
   ],
   "source": [
    "from IPython.display import HTML, display, Image\n",
    "from IPython.core.display import display, HTML, Image\n",
    "\n",
    "HTML(df[:50].to_html(escape=False))"
   ]
  },
  {
   "cell_type": "code",
   "execution_count": 8,
   "metadata": {},
   "outputs": [
    {
     "data": {
      "text/plain": [
       "array(['unrated', 'PG-13', 'NC-17', 'R', 'PG', 'Not Rated', '(Banned)',\n",
       "       'G', 'Unrated', 'R-14', '18', '13', 'TV-14', '15', '20', 'TV-PG',\n",
       "       'PD-14'], dtype=object)"
      ]
     },
     "execution_count": 8,
     "metadata": {},
     "output_type": "execute_result"
    }
   ],
   "source": [
    "df_all['type'].unique()"
   ]
  },
  {
   "cell_type": "code",
   "execution_count": 9,
   "metadata": {},
   "outputs": [
    {
     "data": {
      "text/plain": [
       "(78, 2)"
      ]
     },
     "execution_count": 9,
     "metadata": {},
     "output_type": "execute_result"
    }
   ],
   "source": [
    "events = pd.read_csv(\"C:/Users/USER/Desktop/IMDB_cleaned/Major_Events.csv\")\n",
    "events.shape"
   ]
  },
  {
   "cell_type": "code",
   "execution_count": 12,
   "metadata": {},
   "outputs": [
    {
     "data": {
      "text/html": [
       "<div>\n",
       "<style scoped>\n",
       "    .dataframe tbody tr th:only-of-type {\n",
       "        vertical-align: middle;\n",
       "    }\n",
       "\n",
       "    .dataframe tbody tr th {\n",
       "        vertical-align: top;\n",
       "    }\n",
       "\n",
       "    .dataframe thead th {\n",
       "        text-align: right;\n",
       "    }\n",
       "</style>\n",
       "<table border=\"1\" class=\"dataframe\">\n",
       "  <thead>\n",
       "    <tr style=\"text-align: right;\">\n",
       "      <th></th>\n",
       "      <th>entity</th>\n",
       "      <th>winner</th>\n",
       "      <th>isOscarNominated?</th>\n",
       "    </tr>\n",
       "  </thead>\n",
       "  <tbody>\n",
       "    <tr>\n",
       "      <th>0</th>\n",
       "      <td>TITANIC</td>\n",
       "      <td>10</td>\n",
       "      <td>YES</td>\n",
       "    </tr>\n",
       "    <tr>\n",
       "      <th>1</th>\n",
       "      <td>LA LA LAND</td>\n",
       "      <td>10</td>\n",
       "      <td>YES</td>\n",
       "    </tr>\n",
       "    <tr>\n",
       "      <th>2</th>\n",
       "      <td>LIFE OF PI</td>\n",
       "      <td>9</td>\n",
       "      <td>YES</td>\n",
       "    </tr>\n",
       "    <tr>\n",
       "      <th>3</th>\n",
       "      <td>THE REVENANT</td>\n",
       "      <td>9</td>\n",
       "      <td>YES</td>\n",
       "    </tr>\n",
       "    <tr>\n",
       "      <th>4</th>\n",
       "      <td>MAD MAX: FURY ROAD</td>\n",
       "      <td>9</td>\n",
       "      <td>YES</td>\n",
       "    </tr>\n",
       "  </tbody>\n",
       "</table>\n",
       "</div>"
      ],
      "text/plain": [
       "               entity  winner isOscarNominated?\n",
       "0  TITANIC             10      YES             \n",
       "1  LA LA LAND          10      YES             \n",
       "2  LIFE OF PI          9       YES             \n",
       "3  THE REVENANT        9       YES             \n",
       "4  MAD MAX: FURY ROAD  9       YES             "
      ]
     },
     "execution_count": 12,
     "metadata": {},
     "output_type": "execute_result"
    }
   ],
   "source": [
    "oscar = pd.read_csv(\"C:/Users/USER/Desktop/IMDB_cleaned/oscars-nominees-and-winners/data/oscar_nominated.csv\")\n",
    "oscar.head()"
   ]
  },
  {
   "cell_type": "code",
   "execution_count": 22,
   "metadata": {},
   "outputs": [
    {
     "data": {
      "text/plain": [
       "Index(['type', 'imdb', 'metascore', 'vote', 'duration_(min)', 'gross_revenue',\n",
       "       'genre_1', 'director_1', 'stars_1', 'isOscarNominated?', 'movie'],\n",
       "      dtype='object')"
      ]
     },
     "execution_count": 22,
     "metadata": {},
     "output_type": "execute_result"
    }
   ],
   "source": [
    "df.columns"
   ]
  },
  {
   "cell_type": "code",
   "execution_count": 30,
   "metadata": {},
   "outputs": [
    {
     "data": {
      "image/png": "[encoded data removed]",
      "text/plain": [
       "<Figure size 864x576 with 1 Axes>"
      ]
     },
     "metadata": {
      "needs_background": "light"
     },
     "output_type": "display_data"
    }
   ],
   "source": [
    "import matplotlib.pyplot as plt\n",
    "df = pd.read_csv(\"C:/Users/USER/Desktop/IMDB_cleaned/imdb_and_oscar.csv\")\n",
    "df.head()\n",
    "\n",
    "plt.figure(figsize=(12,8))\n",
    "plt.scatter(x=df['vote'],y=df['isOscarNominated?'],c='DarkBlue')\n",
    "plt.show()"
   ]
  },
  {
   "cell_type": "code",
   "execution_count": 18,
   "metadata": {},
   "outputs": [
    {
     "data": {
      "image/png": "[encoded data removed]",
      "text/plain": [
       "<Figure size 432x288 with 1 Axes>"
      ]
     },
     "metadata": {
      "needs_background": "light"
     },
     "output_type": "display_data"
    }
   ],
   "source": [
    "import matplotlib.pyplot as plt\n",
    "df_all.plot.scatter(x='imdb',y='vote',c='DarkBlue')\n",
    "plt.show()"
   ]
  },
  {
   "cell_type": "code",
   "execution_count": 36,
   "metadata": {},
   "outputs": [
    {
     "data": {
      "image/png": "[encoded data removed]",
      "text/plain": [
       "<Figure size 864x576 with 1 Axes>"
      ]
     },
     "metadata": {
      "needs_background": "light"
     },
     "output_type": "display_data"
    }
   ],
   "source": [
    "import math\n",
    "import numpy as np\n",
    "\n",
    "def sigmoid(x):\n",
    "    a = []\n",
    "    for item in x:\n",
    "        a.append(1/(1+math.exp(-item)))\n",
    "    return a\n",
    "\n",
    "x = np.arange(-10., 10., 0.2)\n",
    "sig = sigmoid(x)\n",
    "\n",
    "plt.figure(figsize=(12,8))\n",
    "plt.plot(x,sig)\n",
    "plt.show()"
   ]
  },
  {
   "cell_type": "code",
   "execution_count": null,
   "metadata": {},
   "outputs": [],
   "source": []
  }
 ],
 "metadata": {
  "kernelspec": {
   "display_name": "Python 3",
   "language": "python",
   "name": "python3"
  },
  "language_info": {
   "codemirror_mode": {
    "name": "ipython",
    "version": 3
   },
   "file_extension": ".py",
   "mimetype": "text/x-python",
   "name": "python",
   "nbconvert_exporter": "python",
   "pygments_lexer": "ipython3",
   "version": "3.6.8"
  }
 },
 "nbformat": 4,
 "nbformat_minor": 2
}
